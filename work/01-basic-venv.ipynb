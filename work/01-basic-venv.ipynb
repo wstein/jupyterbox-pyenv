{
 "cells": [
  {
   "cell_type": "markdown",
   "id": "a0ad2310-a595-4ee1-a72c-0d637c5ca8be",
   "metadata": {},
   "source": [
    "# PyEnv session\n",
    "\n",
    "## Install new Python 3.10.7"
   ]
  },
  {
   "cell_type": "markdown",
   "id": "1cbf37f8-65a2-49ff-98f9-937979e9045f",
   "metadata": {},
   "source": [
    "currently there is only the package manager version of Python installed, called **system**:"
   ]
  },
  {
   "cell_type": "code",
   "execution_count": 1,
   "id": "c445a07e-5a21-45b3-a356-07555fb10afe",
   "metadata": {},
   "outputs": [
    {
     "name": "stdout",
     "output_type": "stream",
     "text": [
      "* system (set by /opt/pyenv/version)\n"
     ]
    }
   ],
   "source": [
    "pyenv versions"
   ]
  },
  {
   "cell_type": "code",
   "execution_count": 2,
   "id": "e3347f46-f4aa-46df-9c56-ae1563d5829e",
   "metadata": {},
   "outputs": [
    {
     "name": "stdout",
     "output_type": "stream",
     "text": [
      "Downloading Python-3.10.7.tar.xz...\n",
      "-> https://www.python.org/ftp/python/3.10.7/Python-3.10.7.tar.xz\n",
      "Installing Python-3.10.7...\n",
      "Installed Python-3.10.7 to /opt/pyenv/versions/3.10.7\n",
      "\n"
     ]
    }
   ],
   "source": [
    "pyenv install 3.10.7"
   ]
  },
  {
   "cell_type": "markdown",
   "id": "160e68b9-864f-4b27-a761-9d81f7f2c139",
   "metadata": {},
   "source": [
    "## Create new Virtual Environment \n",
    "\n",
    "Create virtual environment demo1_py3.10.7:"
   ]
  },
  {
   "cell_type": "code",
   "execution_count": 3,
   "id": "77b625bd-ed93-444a-87f9-9a7a780f9f6d",
   "metadata": {},
   "outputs": [],
   "source": [
    "pyenv virtualenv 3.10.7 demo1_py3.10.7"
   ]
  },
  {
   "cell_type": "markdown",
   "id": "b90f4b06-22d5-4254-8d41-e5257bf94d59",
   "metadata": {},
   "source": [
    "list virtual environments:"
   ]
  },
  {
   "cell_type": "code",
   "execution_count": 4,
   "id": "d42ca8bc-f371-4012-9c09-7025f1bc14a2",
   "metadata": {
    "tags": []
   },
   "outputs": [
    {
     "name": "stdout",
     "output_type": "stream",
     "text": [
      "  3.10.7/envs/demo1_py3.10.7 (created from /opt/pyenv/versions/3.10.7)\n",
      "  demo1_py3.10.7 (created from /opt/pyenv/versions/3.10.7)\n"
     ]
    }
   ],
   "source": [
    "pyenv virtualenvs"
   ]
  },
  {
   "cell_type": "markdown",
   "id": "1507eb79-9262-4bb9-80a8-117508620364",
   "metadata": {},
   "source": [
    "### Activate new Python Virtual Environment for local Folder/Project"
   ]
  },
  {
   "cell_type": "code",
   "execution_count": 5,
   "id": "125a955b-c192-468c-a6d8-dac349a73c6c",
   "metadata": {},
   "outputs": [],
   "source": [
    "pyenv local demo1_py3.10.7"
   ]
  },
  {
   "cell_type": "markdown",
   "id": "8bfaece4-d8eb-4a02-b4d6-39d47dd122d0",
   "metadata": {},
   "source": [
    "Check active Python Virtual Environment for local Folder/Project:"
   ]
  },
  {
   "cell_type": "code",
   "execution_count": 6,
   "id": "3551c061-252f-4a7b-ac1d-8e02c0d7fa9f",
   "metadata": {},
   "outputs": [
    {
     "name": "stdout",
     "output_type": "stream",
     "text": [
      "demo1_py3.10.7 (set by /home/jovyan/work/.python-version)\n"
     ]
    }
   ],
   "source": [
    "pyenv version"
   ]
  },
  {
   "cell_type": "markdown",
   "id": "3d5bfb9b-1589-410a-abfe-8c3dd8ff1b8e",
   "metadata": {
    "tags": []
   },
   "source": [
    "Jupyter workaround, explicit set env VIRTUAL_ENV:"
   ]
  },
  {
   "cell_type": "code",
   "execution_count": 7,
   "id": "1e18f687-1f4e-429f-a3b5-9ffe599a6ba3",
   "metadata": {
    "tags": []
   },
   "outputs": [],
   "source": [
    "export VIRTUAL_ENV=$(pyenv virtualenv-prefix)/envs/$(pyenv version-name)"
   ]
  },
  {
   "cell_type": "markdown",
   "id": "5280c4a1-216c-480d-ad45-08ed6bdd8d69",
   "metadata": {},
   "source": [
    "### Install pipenv Package"
   ]
  },
  {
   "cell_type": "markdown",
   "id": "2e69347a-ca6b-4b01-aaa3-9d6c92ee3d5e",
   "metadata": {},
   "source": [
    "install pipenv package into local environment:"
   ]
  },
  {
   "cell_type": "code",
   "execution_count": 8,
   "id": "ffe4cae2-182d-4338-8cc9-e0f9425c8e88",
   "metadata": {
    "tags": []
   },
   "outputs": [
    {
     "name": "stdout",
     "output_type": "stream",
     "text": [
      "Collecting pipenv\n",
      "  Using cached pipenv-2022.9.8-py2.py3-none-any.whl (3.3 MB)\n",
      "Collecting virtualenv-clone>=0.2.5\n",
      "  Using cached virtualenv_clone-0.5.7-py3-none-any.whl (6.6 kB)\n",
      "Collecting certifi\n",
      "  Using cached certifi-2022.6.15.1-py3-none-any.whl (160 kB)\n",
      "Collecting virtualenv\n",
      "  Using cached virtualenv-20.16.5-py3-none-any.whl (8.8 MB)\n",
      "Requirement already satisfied: setuptools>=36.2.1 in /opt/pyenv/versions/3.10.7/envs/demo1_py3.10.7/lib/python3.10/site-packages (from pipenv) (63.2.0)\n",
      "Collecting filelock<4,>=3.4.1\n",
      "  Using cached filelock-3.8.0-py3-none-any.whl (10 kB)\n",
      "Collecting platformdirs<3,>=2.4\n",
      "  Using cached platformdirs-2.5.2-py3-none-any.whl (14 kB)\n",
      "Collecting distlib<1,>=0.3.5\n",
      "  Using cached distlib-0.3.6-py2.py3-none-any.whl (468 kB)\n",
      "Installing collected packages: distlib, virtualenv-clone, platformdirs, filelock, certifi, virtualenv, pipenv\n",
      "Successfully installed certifi-2022.6.15.1 distlib-0.3.6 filelock-3.8.0 pipenv-2022.9.8 platformdirs-2.5.2 virtualenv-20.16.5 virtualenv-clone-0.5.7\n"
     ]
    }
   ],
   "source": [
    "pyenv exec pip install pipenv"
   ]
  },
  {
   "cell_type": "code",
   "execution_count": 9,
   "id": "b6097082-7133-431f-9bae-1660eefcc90a",
   "metadata": {},
   "outputs": [
    {
     "name": "stdout",
     "output_type": "stream",
     "text": [
      "Package          Version\n",
      "---------------- -----------\n",
      "certifi          2022.6.15.1\n",
      "distlib          0.3.6\n",
      "filelock         3.8.0\n",
      "pip              22.2.2\n",
      "pipenv           2022.9.8\n",
      "platformdirs     2.5.2\n",
      "setuptools       63.2.0\n",
      "virtualenv       20.16.5\n",
      "virtualenv-clone 0.5.7\n"
     ]
    }
   ],
   "source": [
    "pyenv exec pip list"
   ]
  },
  {
   "cell_type": "code",
   "execution_count": 10,
   "id": "bb9796ea-8763-417f-9ef2-ef04fe9f99a5",
   "metadata": {
    "tags": []
   },
   "outputs": [
    {
     "name": "stdout",
     "output_type": "stream",
     "text": [
      "Package Version\n",
      "------- --------\n",
      "pip     22.2.2\n",
      "pipenv  2022.9.8\n"
     ]
    }
   ],
   "source": [
    "pyenv exec pip list --not-required"
   ]
  },
  {
   "cell_type": "markdown",
   "id": "e62176c1-575e-4e06-9de0-28524c8dd126",
   "metadata": {
    "tags": []
   },
   "source": [
    "## Install Packages with pipenv\n",
    "\n",
    "### Install all Packages from Pipfile.lock (sync):"
   ]
  },
  {
   "cell_type": "code",
   "execution_count": 11,
   "id": "463da19c-f9a7-404c-8197-57deb8159fa7",
   "metadata": {},
   "outputs": [
    {
     "name": "stdout",
     "output_type": "stream",
     "text": [
      "\u001b[1mInstalling dependencies from Pipfile.lock (25c40d)...\u001b[0m\n",
      "To activate this project's virtualenv, run \u001b[33mpipenv shell\u001b[0m.\n",
      "Alternatively, run a command inside the virtualenv with \u001b[33mpipenv run\u001b[0m.\n",
      "\u001b[32mAll dependencies are now up-to-date!\u001b[0m\n",
      "\u001b[0m"
     ]
    }
   ],
   "source": [
    "pipenv sync"
   ]
  },
  {
   "cell_type": "markdown",
   "id": "651bb6f5-188b-4a66-a318-18f4248d10cf",
   "metadata": {
    "tags": []
   },
   "source": [
    "List install packages:"
   ]
  },
  {
   "cell_type": "code",
   "execution_count": 12,
   "id": "e3c39fe8-f02e-4470-9cf0-44e5995a7057",
   "metadata": {},
   "outputs": [
    {
     "name": "stdout",
     "output_type": "stream",
     "text": [
      "Package            Version\n",
      "------------------ -----------\n",
      "certifi            2022.6.15.1\n",
      "charset-normalizer 2.1.1\n",
      "distlib            0.3.6\n",
      "filelock           3.8.0\n",
      "idna               3.3\n",
      "pip                22.2.2\n",
      "pipenv             2022.9.8\n",
      "platformdirs       2.5.2\n",
      "requests           2.28.1\n",
      "setuptools         63.2.0\n",
      "urllib3            1.26.9\n",
      "virtualenv         20.16.5\n",
      "virtualenv-clone   0.5.7\n"
     ]
    }
   ],
   "source": [
    "pyenv exec pip list"
   ]
  },
  {
   "cell_type": "code",
   "execution_count": 13,
   "id": "c8705d8a-1beb-4504-8781-22b50db76b1f",
   "metadata": {},
   "outputs": [
    {
     "name": "stdout",
     "output_type": "stream",
     "text": [
      "Package  Version\n",
      "-------- --------\n",
      "pip      22.2.2\n",
      "pipenv   2022.9.8\n",
      "requests 2.28.1\n"
     ]
    }
   ],
   "source": [
    "pyenv exec pip list --not-required"
   ]
  },
  {
   "cell_type": "markdown",
   "id": "d89c8d4b-3fd1-478c-b9ee-6f2129088c90",
   "metadata": {
    "tags": []
   },
   "source": [
    "### Install additional Package numpy:"
   ]
  },
  {
   "cell_type": "code",
   "execution_count": 14,
   "id": "0aa63cac-1ad9-43c2-bc88-975c0b656858",
   "metadata": {},
   "outputs": [
    {
     "name": "stdout",
     "output_type": "stream",
     "text": [
      "\u001b[32m\u001b[1mInstalling numpy...\u001b[0m\n",
      "\u001b[K\u001b[1mAdding\u001b[0m \u001b[32m\u001b[1mnumpy\u001b[0m \u001b[1mto Pipfile's\u001b[0m \u001b[33m\u001b[1m[packages]\u001b[0m\u001b[1m...\u001b[0m\n",
      "\u001b[K\u001b[?25h✔ Installation Succeeded\u001b[0m \n",
      "\u001b[1mInstalling dependencies from Pipfile.lock (25c40d)...\u001b[0m\n",
      "To activate this project's virtualenv, run \u001b[33mpipenv shell\u001b[0m.\n",
      "Alternatively, run a command inside the virtualenv with \u001b[33mpipenv run\u001b[0m.\n",
      "\u001b[0m"
     ]
    }
   ],
   "source": [
    "pyenv exec pipenv install --keep-outdated numpy"
   ]
  },
  {
   "cell_type": "markdown",
   "id": "becd5692-8a0b-4c2a-864b-02f21a9c4b82",
   "metadata": {
    "tags": []
   },
   "source": [
    "Recreate Pipfile.lock:"
   ]
  },
  {
   "cell_type": "code",
   "execution_count": 15,
   "id": "1a21fbe4-6498-4b32-b290-af8344e2df19",
   "metadata": {},
   "outputs": [
    {
     "name": "stdout",
     "output_type": "stream",
     "text": [
      "Locking\u001b[0m \u001b[33m[packages]\u001b[0m dependencies...\u001b[0m\n",
      "\u001b[K\u001b[KBuilding requirements...\n",
      "\u001b[KResolving dependencies...\n",
      "\u001b[K\u001b[?25h\u001b[32m\u001b[22m✔ Success!\u001b[39m\u001b[22m\u001b[0m \n",
      "Locking\u001b[0m \u001b[33m[dev-packages]\u001b[0m dependencies...\u001b[0m\n",
      "\u001b[1mUpdated Pipfile.lock (25c40d)!\u001b[0m\n",
      "\u001b[0m"
     ]
    }
   ],
   "source": [
    "pyenv exec pipenv lock"
   ]
  },
  {
   "cell_type": "markdown",
   "id": "eee3e9d5-6ff4-4583-a512-3c023cd13dca",
   "metadata": {
    "tags": []
   },
   "source": [
    "List install packages:"
   ]
  },
  {
   "cell_type": "code",
   "execution_count": 16,
   "id": "3094f7c6-0c94-4bbc-8403-2119ebc0c485",
   "metadata": {},
   "outputs": [
    {
     "name": "stdout",
     "output_type": "stream",
     "text": [
      "Package            Version\n",
      "------------------ -----------\n",
      "certifi            2022.6.15.1\n",
      "charset-normalizer 2.1.1\n",
      "distlib            0.3.6\n",
      "filelock           3.8.0\n",
      "idna               3.3\n",
      "numpy              1.23.3\n",
      "pip                22.2.2\n",
      "pipenv             2022.9.8\n",
      "platformdirs       2.5.2\n",
      "requests           2.28.1\n",
      "setuptools         63.2.0\n",
      "urllib3            1.26.9\n",
      "virtualenv         20.16.5\n",
      "virtualenv-clone   0.5.7\n"
     ]
    }
   ],
   "source": [
    "pyenv exec pip list"
   ]
  },
  {
   "cell_type": "code",
   "execution_count": 17,
   "id": "e57011c7-b5eb-47b0-8752-7e54bf397f29",
   "metadata": {},
   "outputs": [
    {
     "name": "stdout",
     "output_type": "stream",
     "text": [
      "Package  Version\n",
      "-------- --------\n",
      "numpy    1.23.3\n",
      "pip      22.2.2\n",
      "pipenv   2022.9.8\n",
      "requests 2.28.1\n"
     ]
    }
   ],
   "source": [
    "pyenv exec pip list --not-required"
   ]
  },
  {
   "cell_type": "markdown",
   "id": "8ada9550",
   "metadata": {},
   "source": [
    "### Delete Virtual Environment demo1_py3.10.7"
   ]
  },
  {
   "cell_type": "markdown",
   "id": "7ba24e3f",
   "metadata": {},
   "source": [
    "Unset local python version:"
   ]
  },
  {
   "cell_type": "code",
   "execution_count": 18,
   "id": "69f77ddd-14e4-4b77-8bb3-564f911f33a3",
   "metadata": {},
   "outputs": [],
   "source": [
    "pyenv local --unset"
   ]
  },
  {
   "cell_type": "markdown",
   "id": "7f66ed27",
   "metadata": {},
   "source": [
    "Remove the specified virtualenv without prompting for confirmation:"
   ]
  },
  {
   "cell_type": "code",
   "execution_count": 19,
   "id": "46f4930e",
   "metadata": {},
   "outputs": [],
   "source": [
    "pyenv virtualenv-delete -f demo1_py3.10.7"
   ]
  },
  {
   "cell_type": "markdown",
   "id": "def32b62-eaf4-4639-bbaa-f6696db06788",
   "metadata": {
    "tags": []
   },
   "source": [
    "List remaining Python versions:"
   ]
  },
  {
   "cell_type": "code",
   "execution_count": 20,
   "id": "4ce3bd54-04f9-4047-911f-319959e49956",
   "metadata": {},
   "outputs": [
    {
     "name": "stdout",
     "output_type": "stream",
     "text": [
      "* system (set by /opt/pyenv/version)\n",
      "  3.10.7\n"
     ]
    }
   ],
   "source": [
    "pyenv versions"
   ]
  }
 ],
 "metadata": {
  "kernelspec": {
   "display_name": "Bash",
   "language": "bash",
   "name": "bash"
  },
  "language_info": {
   "codemirror_mode": "shell",
   "file_extension": ".sh",
   "mimetype": "text/x-sh",
   "name": "bash"
  }
 },
 "nbformat": 4,
 "nbformat_minor": 5
}
