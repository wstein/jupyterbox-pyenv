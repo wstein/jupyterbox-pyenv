{
    "cells": [
        {
            "cell_type": "markdown",
            "id": "a0ad2310-a595-4ee1-a72c-0d637c5ca8be",
            "metadata": {},
            "source": [
                "# Use python-build Plugin to build local Python Version\n",
                "\n",
                "## Build and install Python 3.9.13 to /usr/local "
            ]
        },
        {
            "cell_type": "code",
            "execution_count": 1,
            "id": "2e3acc26-ece0-491c-88e7-fbb39428440e",
            "metadata": {},
            "outputs": [
                {
                    "name": "stdout",
                    "output_type": "stream",
                    "text": [
                        "Downloading Python-3.9.13.tar.xz...\n",
                        "-> https://www.python.org/ftp/python/3.9.13/Python-3.9.13.tar.xz\n",
                        "Installing Python-3.9.13...\n",
                        "Installed Python-3.9.13 to /usr/local\n",
                        "\n"
                    ]
                }
            ],
            "source": [
                "sudo python-build 3.9.13 /usr/local"
            ]
        },
        {
            "cell_type": "markdown",
            "id": "79674572-28d4-4139-ba71-b707383c3a69",
            "metadata": {},
            "source": [
                "As this is not managed by pyenv, it is not listed in the versions list:"
            ]
        },
        {
            "cell_type": "code",
            "execution_count": 2,
            "id": "b24e23d7-802e-4573-9e0f-4fe24e80e5ce",
            "metadata": {},
            "outputs": [
                {
                    "name": "stdout",
                    "output_type": "stream",
                    "text": [
                        "  system\n",
                        "  3.10.7\n",
                        "  3.10.7/envs/demo1_py3.10.7\n",
                        "* demo1_py3.10.7 (set by /home/jovyan/work/.python-version)\n"
                    ]
                }
            ],
            "source": [
                "pyenv versions"
            ]
        },
        {
            "cell_type": "markdown",
            "id": "4d6e3bde-ff2c-4c3d-95b0-32fe0003416a",
            "metadata": {},
            "source": [
                "But it can be called directly:"
            ]
        },
        {
            "cell_type": "code",
            "execution_count": 3,
            "id": "bd9bea92-72e5-4ade-8797-0e944225a68c",
            "metadata": {},
            "outputs": [
                {
                    "name": "stdout",
                    "output_type": "stream",
                    "text": [
                        "Python 3.9.13\n"
                    ]
                }
            ],
            "source": [
                "/usr/local/bin/python3 --version"
            ]
        }
    ],
    "metadata": {
        "kernelspec": {
            "display_name": "Bash",
            "language": "bash",
            "name": "bash"
        },
        "language_info": {
            "codemirror_mode": "shell",
            "file_extension": ".sh",
            "mimetype": "text/x-sh",
            "name": "bash"
        }
    },
    "nbformat": 4,
    "nbformat_minor": 5
}