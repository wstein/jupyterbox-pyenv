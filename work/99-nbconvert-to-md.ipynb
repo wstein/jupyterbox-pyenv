{
 "cells": [
  {
   "cell_type": "markdown",
   "id": "2c5180c3-9978-4450-8562-8c99ec0f6c8c",
   "metadata": {},
   "source": [
    "# Finally convert the Notebooks to Markdown format"
   ]
  },
  {
   "cell_type": "code",
   "execution_count": 1,
   "id": "e5dfeb3d-c733-474b-8b85-485fff158889",
   "metadata": {},
   "outputs": [
    {
     "name": "stdout",
     "output_type": "stream",
     "text": [
      "[NbConvertApp] Converting notebook 01-basic-venv.ipynb to markdown\n",
      "[NbConvertApp] Writing 5871 bytes to 01-basic-venv.md\n",
      "[NbConvertApp] Converting notebook 02-local-install.ipynb to markdown\n",
      "[NbConvertApp] Writing 673 bytes to 02-local-install.md\n"
     ]
    }
   ],
   "source": [
    "jupyter nbconvert 0*.ipynb --to markdown"
   ]
  }
 ],
 "metadata": {
  "kernelspec": {
   "display_name": "Bash",
   "language": "bash",
   "name": "bash"
  },
  "language_info": {
   "codemirror_mode": "shell",
   "file_extension": ".sh",
   "mimetype": "text/x-sh",
   "name": "bash"
  }
 },
 "nbformat": 4,
 "nbformat_minor": 5
}
